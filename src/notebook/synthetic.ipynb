{
 "cells": [
  {
   "cell_type": "code",
   "execution_count": 2,
   "id": "396dcb56-1a19-41f1-a49b-d926e3a8d931",
   "metadata": {},
   "outputs": [
    {
     "name": "stdout",
     "output_type": "stream",
     "text": [
      "The autoreload extension is already loaded. To reload it, use:\n",
      "  %reload_ext autoreload\n"
     ]
    }
   ],
   "source": [
    "import numpy as np\n",
    "import torch\n",
    "import time\n",
    "import copy\n",
    "import torch.nn.functional as F\n",
    "import matplotlib.pyplot as plt\n",
    "import sys\n",
    "import matplotlib.pyplot as plt\n",
    "import seaborn as sns\n",
    "from torch.utils.data import DataLoader\n",
    "from tqdm.notebook import tqdm\n",
    "\n",
    "sys.path.append('..')\n",
    "from networks.mnist_network import Net\n",
    "from dataloader.dataset_wrapper import mydata\n",
    "from sklearn.model_selection import KFold\n",
    "\n",
    "\n",
    "sns.set_theme()\n",
    "\n",
    "%load_ext autoreload\n",
    "%autoreload 2\n",
    "%matplotlib inline\n",
    "%config InlineBackend.figure_format = 'retina'"
   ]
  },
  {
   "cell_type": "code",
   "execution_count": 3,
   "id": "b8ce123e-9b50-405a-a074-c200fc738d8d",
   "metadata": {},
   "outputs": [],
   "source": [
    "m = 30\n",
    "N = 5000\n",
    "mean = np.zeros(m**2)\n",
    "cov = np.zeros((m**2, m**2))\n",
    "theta = 2\n",
    "for i1 in range(30):\n",
    "    for j1 in range(30):\n",
    "        for i2 in range(30):\n",
    "            for j2 in range(30):\n",
    "                cov[i1*30+j1, i2*30+j2] = np.exp(-((i1-i2)**2+(j1-j2)**2)/theta)\n",
    "                \n",
    "ind1 = np.zeros((m, m))\n",
    "ind2 = np.zeros((m, m))\n",
    "for i in range(30):\n",
    "    for j in range(30):\n",
    "        if ((3<=i<=10) and (3<=j<=10)):\n",
    "            ind1[i,j] = 1\n",
    "        if (17<=j<=27 and 21<=i<=26 and abs(i-21)>=abs(j-22)):\n",
    "            ind2[i,j] = 1\n",
    "ind1 = ind1.reshape(1, -1)\n",
    "ind2 = ind2.reshape(1, -1)\n",
    "ind = (ind1+ind2).reshape(1, -1)"
   ]
  },
  {
   "cell_type": "code",
   "execution_count": 4,
   "id": "b6d0d038-66b1-4c73-9313-77c3fe30b3fa",
   "metadata": {},
   "outputs": [
    {
     "data": {
      "image/png": "[encoded data removed]",
      "text/plain": [
       "<Figure size 432x288 with 1 Axes>"
      ]
     },
     "metadata": {
      "image/png": {
       "height": 231,
       "width": 231
      },
      "needs_background": "light"
     },
     "output_type": "display_data"
    }
   ],
   "source": [
    "import matplotlib.pyplot as plt\n",
    "plt.imshow(ind.reshape(30, 30), cmap='gray')\n",
    "plt.axis('off')\n",
    "#plt.savefig('figures/region_A_B.png', dpi=300, bbox_inches='tight')\n",
    "plt.show()"
   ]
  },
  {
   "cell_type": "code",
   "execution_count": 6,
   "id": "2e45dfc5-607f-4787-8ec9-8188c181d78e",
   "metadata": {},
   "outputs": [],
   "source": [
    "## same as \n",
    "##  grids = GP.GP_generate_grids(d=2, num_grids=30)\n",
    "##  phi = GP.GP_eigen_funcs_fast(grids, a=0.01, b = 10, poly_degree = 10)\n",
    "phi = np.loadtxt('../phi/mse_a0.01_b10.csv')"
   ]
  },
  {
   "cell_type": "code",
   "execution_count": 7,
   "id": "f7bf6173-2ab3-4402-b9dc-d525e82b92ff",
   "metadata": {},
   "outputs": [],
   "source": [
    "seeds = np.array([  1,   2,   4,   8,   9,  11,  13,  17,  18,  21,  22,  23,  24,\n",
    "        28,  29,  31,  33,  34,  37,  39,  40,  43,  45,  48,  49,  50,\n",
    "        51,  53,  54,  55,  57,  58,  60,  62,  63,  64,  65,  66,  68,\n",
    "        69,  71,  73,  74,  75,  76,  78,  79,  80,  82,  83,  84,  85,\n",
    "        86,  88,  89,  90,  91,  92,  93,  94,  95,  97,  98, 100, 101,\n",
    "       102, 104, 105])"
   ]
  },
  {
   "cell_type": "code",
   "execution_count": 36,
   "id": "953a84c5-9798-41bb-8080-069fcd7fd38d",
   "metadata": {},
   "outputs": [],
   "source": [
    "device = 'cuda' if torch.cuda.is_available() else 'cpu'\n",
    "grad = []\n",
    "for (x, w), y in train_loader:\n",
    "    x = x.to(device)\n",
    "    x.requires_grad = True\n",
    "    w = w.to(device)\n",
    "    for i in range(x.shape[0]):\n",
    "        log_odds = net.model(x[[i]], w[[i]])\n",
    "        log_odds.sum().backward()\n",
    "    grad.append(copy.deepcopy(x.grad))\n",
    "grad = torch.cat(grad, axis=0)"
   ]
  },
  {
   "cell_type": "code",
   "execution_count": 46,
   "id": "68976f11-e19d-47ff-be24-23fb3754571a",
   "metadata": {},
   "outputs": [],
   "source": [
    "val = torch.abs(grad).sum(axis=0)"
   ]
  },
  {
   "cell_type": "code",
   "execution_count": 49,
   "id": "f49d6045-cef9-471b-bd90-8e69cfe47dcf",
   "metadata": {},
   "outputs": [
    {
     "data": {
      "text/plain": [
       "tensor(213, device='cuda:0')"
      ]
     },
     "execution_count": 49,
     "metadata": {},
     "output_type": "execute_result"
    }
   ],
   "source": [
    "(val>0).sum()"
   ]
  },
  {
   "cell_type": "markdown",
   "id": "55de6f49-bea7-4def-9116-1b3f8918d162",
   "metadata": {},
   "source": [
    "### Different lambda"
   ]
  },
  {
   "cell_type": "code",
   "execution_count": null,
   "id": "d46f81d5-2235-4e62-8167-e31a0f711c4e",
   "metadata": {},
   "outputs": [],
   "source": [
    "for lamb in [0, 1, 2, 3, 4, 5, 6, 7]:\n",
    "    \n",
    "    print(f'lamb={lamb}')\n",
    "    \n",
    "    n_epochs = 5000\n",
    "    n_train = 200\n",
    "    N = 5000\n",
    "    n_test = N-n_train\n",
    "    print_every = test_every = 200\n",
    "    start_save = n_epochs * 0.8\n",
    "    save_every = 10\n",
    "    N_saves = 50\n",
    "    n_seeds = 200\n",
    "    K = 5\n",
    "    \n",
    "    \n",
    "    beta = np.zeros([n_seeds, N_saves, 30*30])\n",
    "    best_accu = np.zeros(n_seeds)\n",
    "    count = 0\n",
    "    \n",
    "    for seed in tqdm(range(n_seeds)):\n",
    "\n",
    "        np.random.seed(seed)\n",
    "        torch.manual_seed(seed)\n",
    "\n",
    "\n",
    "        X = np.random.multivariate_normal(mean, cov, size=N)\n",
    "        X = (X/2 + ind * np.random.randn(N, 900)/2).astype(np.float32)\n",
    "\n",
    "        Y = (-2 + 6 * np.sin(1+3*(X*ind1).sum(axis=1)/ind1.sum()) - 3 * np.exp((X*ind2).sum(axis=1)/ind2.sum())>0).astype(int)\n",
    "        count += 1\n",
    "\n",
    "        train_dat = mydata(X[:200], Y[:200])\n",
    "        val_dat = mydata(X[200:], Y[200:])\n",
    "        train_loader = DataLoader(train_dat, batch_size=100, shuffle=True)\n",
    "        val_loader = DataLoader(val_dat, batch_size=1000, shuffle=True)\n",
    "\n",
    "        net = Net(lr=1e-3, input_dim=900, n_hid=K, output_dim=1, w_dim=1, n_knots=phi.shape[1],\n",
    "                  N_train=200, phi=torch.tensor(phi, dtype=torch.float32), lamb=lamb, langevin=True,\n",
    "                  step_decay_epoch=2500, step_gamma=1., act='relu')\n",
    "        n_param = 0\n",
    "        for param in net.model.parameters():\n",
    "            n_param += param.numel()\n",
    "\n",
    "        loss_train = np.zeros(n_epochs)\n",
    "        accu_train = np.zeros(n_epochs)\n",
    "\n",
    "        loss_val = np.zeros(n_epochs)\n",
    "        accu_val = np.zeros(n_epochs)\n",
    "\n",
    "        for i in range(n_epochs):\n",
    "\n",
    "            tic = time.time()\n",
    "            net.scheduler.step()\n",
    "\n",
    "            for (x, w), y in train_loader:\n",
    "                loss, accu = net.fit(x, w, y)\n",
    "                loss_train[i] += loss\n",
    "                accu_train[i] += accu\n",
    "\n",
    "            loss_train[i] /= n_train\n",
    "            accu_train[i] /= n_train\n",
    "            toc = time.time()\n",
    "\n",
    "            if i % print_every == 0:\n",
    "                pass\n",
    "                #print('Epoch %d, train time %.4f s, train loss %.4f, train accuracy %.2f%%' % (i, toc - tic, loss_train[i], accu_train[i] * 100))\n",
    "\n",
    "            if i > start_save and i % save_every == 0:\n",
    "                net.save_net_weights(max_samples=N_saves)\n",
    "\n",
    "            if i % test_every == 0:\n",
    "                with torch.no_grad():\n",
    "                    tic = time.time()\n",
    "                    for (x, w), y in val_loader:\n",
    "                        loss, accu = net.eval(x, w, y)\n",
    "\n",
    "                        loss_val[i] += loss\n",
    "                        accu_val[i] += accu\n",
    "\n",
    "                    loss_val[i] /= n_test\n",
    "                    accu_val[i] /= n_test\n",
    "                    toc = time.time()\n",
    "                    best_accu[seed] = max(best_accu[seed], accu_val[i])\n",
    "\n",
    "\n",
    "        for j, weight_dict in enumerate(net.weight_set_samples):\n",
    "            net.model.load_state_dict(weight_dict)\n",
    "            grad = []\n",
    "            for (x, w), y in train_loader:\n",
    "                x = x.to(device)\n",
    "                x.requires_grad = True\n",
    "                w = w.to(device)\n",
    "                for i in range(x.shape[0]):\n",
    "                    log_odds = net.model(x[[i]], w[[i]])\n",
    "                    log_odds.sum().backward()\n",
    "                grad.append(copy.deepcopy(x.grad))\n",
    "            grad = torch.cat(grad, axis=0)\n",
    "            beta[seed, j] = (torch.abs(grad).mean(axis=0) > 0.001).numpy()\n",
    "            \n",
    "    b = beta.mean(axis=1)\n",
    "    np.save(f'../save_model/b_{lamb}.npy', b)"
   ]
  },
  {
   "cell_type": "code",
   "execution_count": 6,
   "id": "da2224b5-dfb6-405a-985c-cd26aa4224c0",
   "metadata": {},
   "outputs": [],
   "source": [
    "def bayesian_selection(b, alpha=0.01):\n",
    "    b_copy = copy.deepcopy(b)\n",
    "    for i in range(b.shape[0]):\n",
    "        tmp = sorted(copy.deepcopy(b[i]), reverse=True)\n",
    "        s = 0\n",
    "        for j in range(len(tmp)):\n",
    "            s += (1-tmp[j])\n",
    "            if s / (j+1) > alpha:\n",
    "                break\n",
    "        b_copy[i][b_copy[i] >= tmp[j]] = 1.\n",
    "        b_copy[i][b_copy[i] < tmp[j]] = 0.\n",
    "    return b_copy"
   ]
  },
  {
   "cell_type": "code",
   "execution_count": 7,
   "id": "8d91738d-3913-4a02-89b2-e7578cf6d5a3",
   "metadata": {},
   "outputs": [],
   "source": [
    "b = []\n",
    "b_s = []\n",
    "lambs = [0,1,2,3,4,5,6,7]\n",
    "for lamb in lambs:\n",
    "    b.append(np.load(f'save_model/b_{lamb}.npy'))\n",
    "    b_s.append(bayesian_selection(b[-1]))"
   ]
  },
  {
   "cell_type": "code",
   "execution_count": 14,
   "id": "ca13a264-1cf5-41a7-8612-96a468d67a8f",
   "metadata": {},
   "outputs": [
    {
     "data": {
      "image/png": "[encoded data removed]",
      "text/plain": [
       "<Figure size 1080x432 with 9 Axes>"
      ]
     },
     "metadata": {
      "needs_background": "light"
     },
     "output_type": "display_data"
    }
   ],
   "source": [
    "fig, ax = plt.subplots(figsize=(15,6), nrows=2, ncols=4)\n",
    "for i, lamb in enumerate(lambs):\n",
    "    i_ = i//4\n",
    "    j_ = i%4\n",
    "    im = ax[i_][j_].imshow(b_s[i].mean(0).reshape(30,30), cmap='hot', vmin=0, vmax=1)\n",
    "    ax[i_][j_].set_title(f'$\\lambda$={lamb}')\n",
    "    ax[i_][j_].get_xaxis().set_visible(False)\n",
    "    ax[i_][j_].get_yaxis().set_visible(False)\n",
    "fig.subplots_adjust(right=0.8)\n",
    "cbar_ax = fig.add_axes([0.83, 0.15, 0.02, 0.7])\n",
    "fig.colorbar(im, cax=cbar_ax)\n",
    "plt.savefig('figures/simulation_lambda_stability.png', dpi=300, bbox_inches='tight')\n",
    "plt.show()"
   ]
  },
  {
   "cell_type": "code",
   "execution_count": 15,
   "id": "f3b98637-988a-418a-ae8d-8de388307b25",
   "metadata": {},
   "outputs": [
    {
     "data": {
      "image/png": "[encoded data removed]",
      "text/plain": [
       "<Figure size 1080x432 with 9 Axes>"
      ]
     },
     "metadata": {
      "needs_background": "light"
     },
     "output_type": "display_data"
    }
   ],
   "source": [
    "fig, ax = plt.subplots(figsize=(15,6), nrows=2, ncols=4)\n",
    "for i, lamb in enumerate(lambs):\n",
    "    i_ = i//4\n",
    "    j_ = i%4\n",
    "    idx = b_s[i].mean(0)>0.6\n",
    "    tmp = b_s[i].mean(0)\n",
    "    tmp[~idx]=0\n",
    "    masked = np.ma.masked_where(ind == 0, ind)\n",
    "    im = ax[i_][j_].imshow(tmp.reshape(30,30), cmap='hot', vmin=0, vmax=1)\n",
    "    ax[i_][j_].imshow(masked.reshape(30, 30), cmap='gray', alpha=0.3)\n",
    "    ax[i_][j_].set_title(f'$\\lambda$={lamb}')\n",
    "    ax[i_][j_].get_xaxis().set_visible(False)\n",
    "    ax[i_][j_].get_yaxis().set_visible(False)\n",
    "fig.subplots_adjust(right=0.8)\n",
    "cbar_ax = fig.add_axes([0.83, 0.15, 0.02, 0.7])\n",
    "fig.colorbar(im, cax=cbar_ax)\n",
    "plt.savefig('figures/simulation_lambda_stability_0.6.png', dpi=300, bbox_inches='tight')\n",
    "plt.show()"
   ]
  },
  {
   "cell_type": "code",
   "execution_count": null,
   "id": "c3bfb13c-c4e8-4ddc-988c-0a89850176f4",
   "metadata": {},
   "outputs": [],
   "source": []
  }
 ],
 "metadata": {
  "kernelspec": {
   "display_name": "Python 3 (ipykernel)",
   "language": "python",
   "name": "python3"
  },
  "language_info": {
   "codemirror_mode": {
    "name": "ipython",
    "version": 3
   },
   "file_extension": ".py",
   "mimetype": "text/x-python",
   "name": "python",
   "nbconvert_exporter": "python",
   "pygments_lexer": "ipython3",
   "version": "3.11.13"
  }
 },
 "nbformat": 4,
 "nbformat_minor": 5
}
